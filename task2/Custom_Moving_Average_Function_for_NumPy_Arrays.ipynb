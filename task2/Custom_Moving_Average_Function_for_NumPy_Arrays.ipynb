{
  "nbformat": 4,
  "nbformat_minor": 0,
  "metadata": {
    "colab": {
      "provenance": []
    },
    "kernelspec": {
      "name": "python3",
      "display_name": "Python 3"
    },
    "language_info": {
      "name": "python"
    }
  },
  "cells": [
    {
      "cell_type": "code",
      "execution_count": 1,
      "metadata": {
        "colab": {
          "base_uri": "https://localhost:8080/"
        },
        "id": "yMwxmG8o1c3b",
        "outputId": "d4f9ac7a-c1de-47c7-a672-1b541d8d1105"
      },
      "outputs": [
        {
          "output_type": "stream",
          "name": "stdout",
          "text": [
            "Original Array: [10 20 30 40 50 60]\n",
            "Moving Average (window=3): [20. 30. 40. 50.]\n"
          ]
        }
      ],
      "source": [
        "import numpy as np\n",
        "\n",
        "data = np.array([10, 20, 30, 40, 50, 60])\n",
        "\n",
        "\n",
        "def custom_moving_average(arr, window_size):\n",
        "    if window_size <= 0:\n",
        "        raise ValueError(\"Window size must be greater than 0\")\n",
        "    if window_size > len(arr):\n",
        "        raise ValueError(\"Window size cannot be greater than array length\")\n",
        "\n",
        "    result = []\n",
        "    for i in range(len(arr) - window_size + 1):\n",
        "        window = arr[i:i+window_size]\n",
        "        average = sum(window) / window_size\n",
        "        result.append(average)\n",
        "    return np.array(result)\n",
        "\n",
        "\n",
        "window_size = 3\n",
        "moving_avg_result = custom_moving_average(data, window_size)\n",
        "\n",
        "\n",
        "print(\"Original Array:\", data)\n",
        "print(f\"Moving Average (window={window_size}):\", moving_avg_result)\n"
      ]
    },
    {
      "cell_type": "code",
      "source": [
        "\n",
        "with open(\"task2_output.txt\", \"w\") as f:\n",
        "    f.write(\"Original Array: \" + str(data.tolist()) + \"\\n\")\n",
        "    f.write(f\"Moving Average (window={window_size}): \" + str(moving_avg_result.tolist()))\n"
      ],
      "metadata": {
        "id": "-LPMC4-H2gqF"
      },
      "execution_count": 3,
      "outputs": []
    },
    {
      "cell_type": "code",
      "source": [
        "from google.colab import files\n",
        "files.download(\"task2_output.txt\")\n"
      ],
      "metadata": {
        "colab": {
          "base_uri": "https://localhost:8080/",
          "height": 17
        },
        "id": "8Lz4m45w2yAv",
        "outputId": "c3b198df-40e1-41e3-c3f7-744a820d2efb"
      },
      "execution_count": 4,
      "outputs": [
        {
          "output_type": "display_data",
          "data": {
            "text/plain": [
              "<IPython.core.display.Javascript object>"
            ],
            "application/javascript": [
              "\n",
              "    async function download(id, filename, size) {\n",
              "      if (!google.colab.kernel.accessAllowed) {\n",
              "        return;\n",
              "      }\n",
              "      const div = document.createElement('div');\n",
              "      const label = document.createElement('label');\n",
              "      label.textContent = `Downloading \"${filename}\": `;\n",
              "      div.appendChild(label);\n",
              "      const progress = document.createElement('progress');\n",
              "      progress.max = size;\n",
              "      div.appendChild(progress);\n",
              "      document.body.appendChild(div);\n",
              "\n",
              "      const buffers = [];\n",
              "      let downloaded = 0;\n",
              "\n",
              "      const channel = await google.colab.kernel.comms.open(id);\n",
              "      // Send a message to notify the kernel that we're ready.\n",
              "      channel.send({})\n",
              "\n",
              "      for await (const message of channel.messages) {\n",
              "        // Send a message to notify the kernel that we're ready.\n",
              "        channel.send({})\n",
              "        if (message.buffers) {\n",
              "          for (const buffer of message.buffers) {\n",
              "            buffers.push(buffer);\n",
              "            downloaded += buffer.byteLength;\n",
              "            progress.value = downloaded;\n",
              "          }\n",
              "        }\n",
              "      }\n",
              "      const blob = new Blob(buffers, {type: 'application/binary'});\n",
              "      const a = document.createElement('a');\n",
              "      a.href = window.URL.createObjectURL(blob);\n",
              "      a.download = filename;\n",
              "      div.appendChild(a);\n",
              "      a.click();\n",
              "      div.remove();\n",
              "    }\n",
              "  "
            ]
          },
          "metadata": {}
        },
        {
          "output_type": "display_data",
          "data": {
            "text/plain": [
              "<IPython.core.display.Javascript object>"
            ],
            "application/javascript": [
              "download(\"download_9dea778b-dbf2-4279-8d6f-f54b7c0f7f4d\", \"task2_output.txt\", 92)"
            ]
          },
          "metadata": {}
        }
      ]
    }
  ]
}